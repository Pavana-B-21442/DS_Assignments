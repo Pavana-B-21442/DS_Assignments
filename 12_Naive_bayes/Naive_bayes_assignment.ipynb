{
 "cells": [
  {
   "cell_type": "code",
   "execution_count": 1,
   "id": "225f3715",
   "metadata": {},
   "outputs": [],
   "source": [
    "#importing libraries\n",
    "import numpy as np\n",
    "import matplotlib.pyplot as plt\n",
    "import seaborn as sns\n",
    "from mlxtend.plotting import plot_confusion_matrix\n",
    "from matplotlib.colors import ListedColormap\n",
    "from sklearn.metrics import accuracy_score\n",
    "from sklearn.metrics import classification_report\n",
    "from sklearn.metrics import confusion_matrix\n",
    "from sklearn.metrics import roc_curve,auc\n",
    "from sklearn.metrics import roc_auc_score\n",
    "import pandas as pd\n",
    "import warnings\n",
    "warnings.filterwarnings(\"ignore\")\n"
   ]
  },
  {
   "cell_type": "code",
   "execution_count": 2,
   "id": "79ec2018",
   "metadata": {},
   "outputs": [],
   "source": [
    "#importing data\n",
    "dataset_train = pd.read_csv(\"C:/Users/dell/Documents/DS_Assignments/12_Naive_bayes/SalaryData_Train.csv\")\n",
    "dataset_test = pd.read_csv(\"C:/Users/dell/Documents/DS_Assignments/12_Naive_bayes/SalaryData_Test.csv\")"
   ]
  },
  {
   "cell_type": "code",
   "execution_count": 3,
   "id": "77f09aa6",
   "metadata": {},
   "outputs": [
    {
     "data": {
      "text/html": [
       "<div>\n",
       "<style scoped>\n",
       "    .dataframe tbody tr th:only-of-type {\n",
       "        vertical-align: middle;\n",
       "    }\n",
       "\n",
       "    .dataframe tbody tr th {\n",
       "        vertical-align: top;\n",
       "    }\n",
       "\n",
       "    .dataframe thead th {\n",
       "        text-align: right;\n",
       "    }\n",
       "</style>\n",
       "<table border=\"1\" class=\"dataframe\">\n",
       "  <thead>\n",
       "    <tr style=\"text-align: right;\">\n",
       "      <th></th>\n",
       "      <th>age</th>\n",
       "      <th>workclass</th>\n",
       "      <th>education</th>\n",
       "      <th>educationno</th>\n",
       "      <th>maritalstatus</th>\n",
       "      <th>occupation</th>\n",
       "      <th>relationship</th>\n",
       "      <th>race</th>\n",
       "      <th>sex</th>\n",
       "      <th>capitalgain</th>\n",
       "      <th>capitalloss</th>\n",
       "      <th>hoursperweek</th>\n",
       "      <th>native</th>\n",
       "      <th>Salary</th>\n",
       "    </tr>\n",
       "  </thead>\n",
       "  <tbody>\n",
       "    <tr>\n",
       "      <th>0</th>\n",
       "      <td>39</td>\n",
       "      <td>State-gov</td>\n",
       "      <td>Bachelors</td>\n",
       "      <td>13</td>\n",
       "      <td>Never-married</td>\n",
       "      <td>Adm-clerical</td>\n",
       "      <td>Not-in-family</td>\n",
       "      <td>White</td>\n",
       "      <td>Male</td>\n",
       "      <td>2174</td>\n",
       "      <td>0</td>\n",
       "      <td>40</td>\n",
       "      <td>United-States</td>\n",
       "      <td>&lt;=50K</td>\n",
       "    </tr>\n",
       "    <tr>\n",
       "      <th>1</th>\n",
       "      <td>50</td>\n",
       "      <td>Self-emp-not-inc</td>\n",
       "      <td>Bachelors</td>\n",
       "      <td>13</td>\n",
       "      <td>Married-civ-spouse</td>\n",
       "      <td>Exec-managerial</td>\n",
       "      <td>Husband</td>\n",
       "      <td>White</td>\n",
       "      <td>Male</td>\n",
       "      <td>0</td>\n",
       "      <td>0</td>\n",
       "      <td>13</td>\n",
       "      <td>United-States</td>\n",
       "      <td>&lt;=50K</td>\n",
       "    </tr>\n",
       "    <tr>\n",
       "      <th>2</th>\n",
       "      <td>38</td>\n",
       "      <td>Private</td>\n",
       "      <td>HS-grad</td>\n",
       "      <td>9</td>\n",
       "      <td>Divorced</td>\n",
       "      <td>Handlers-cleaners</td>\n",
       "      <td>Not-in-family</td>\n",
       "      <td>White</td>\n",
       "      <td>Male</td>\n",
       "      <td>0</td>\n",
       "      <td>0</td>\n",
       "      <td>40</td>\n",
       "      <td>United-States</td>\n",
       "      <td>&lt;=50K</td>\n",
       "    </tr>\n",
       "    <tr>\n",
       "      <th>3</th>\n",
       "      <td>53</td>\n",
       "      <td>Private</td>\n",
       "      <td>11th</td>\n",
       "      <td>7</td>\n",
       "      <td>Married-civ-spouse</td>\n",
       "      <td>Handlers-cleaners</td>\n",
       "      <td>Husband</td>\n",
       "      <td>Black</td>\n",
       "      <td>Male</td>\n",
       "      <td>0</td>\n",
       "      <td>0</td>\n",
       "      <td>40</td>\n",
       "      <td>United-States</td>\n",
       "      <td>&lt;=50K</td>\n",
       "    </tr>\n",
       "    <tr>\n",
       "      <th>4</th>\n",
       "      <td>28</td>\n",
       "      <td>Private</td>\n",
       "      <td>Bachelors</td>\n",
       "      <td>13</td>\n",
       "      <td>Married-civ-spouse</td>\n",
       "      <td>Prof-specialty</td>\n",
       "      <td>Wife</td>\n",
       "      <td>Black</td>\n",
       "      <td>Female</td>\n",
       "      <td>0</td>\n",
       "      <td>0</td>\n",
       "      <td>40</td>\n",
       "      <td>Cuba</td>\n",
       "      <td>&lt;=50K</td>\n",
       "    </tr>\n",
       "  </tbody>\n",
       "</table>\n",
       "</div>"
      ],
      "text/plain": [
       "   age          workclass   education  educationno        maritalstatus  \\\n",
       "0   39          State-gov   Bachelors           13        Never-married   \n",
       "1   50   Self-emp-not-inc   Bachelors           13   Married-civ-spouse   \n",
       "2   38            Private     HS-grad            9             Divorced   \n",
       "3   53            Private        11th            7   Married-civ-spouse   \n",
       "4   28            Private   Bachelors           13   Married-civ-spouse   \n",
       "\n",
       "           occupation    relationship    race      sex  capitalgain  \\\n",
       "0        Adm-clerical   Not-in-family   White     Male         2174   \n",
       "1     Exec-managerial         Husband   White     Male            0   \n",
       "2   Handlers-cleaners   Not-in-family   White     Male            0   \n",
       "3   Handlers-cleaners         Husband   Black     Male            0   \n",
       "4      Prof-specialty            Wife   Black   Female            0   \n",
       "\n",
       "   capitalloss  hoursperweek          native  Salary  \n",
       "0            0            40   United-States   <=50K  \n",
       "1            0            13   United-States   <=50K  \n",
       "2            0            40   United-States   <=50K  \n",
       "3            0            40   United-States   <=50K  \n",
       "4            0            40            Cuba   <=50K  "
      ]
     },
     "execution_count": 3,
     "metadata": {},
     "output_type": "execute_result"
    }
   ],
   "source": [
    "dataset_train.head()"
   ]
  },
  {
   "cell_type": "code",
   "execution_count": 4,
   "id": "d4d73635",
   "metadata": {},
   "outputs": [
    {
     "data": {
      "text/plain": [
       "Index(['age', 'workclass', 'education', 'educationno', 'maritalstatus',\n",
       "       'occupation', 'relationship', 'race', 'sex', 'capitalgain',\n",
       "       'capitalloss', 'hoursperweek', 'native', 'Salary'],\n",
       "      dtype='object')"
      ]
     },
     "execution_count": 4,
     "metadata": {},
     "output_type": "execute_result"
    }
   ],
   "source": [
    "dataset_train.columns.unique()"
   ]
  },
  {
   "cell_type": "code",
   "execution_count": 5,
   "id": "ea98a029",
   "metadata": {},
   "outputs": [
    {
     "data": {
      "text/plain": [
       "array([' <=50K', ' >50K'], dtype=object)"
      ]
     },
     "execution_count": 5,
     "metadata": {},
     "output_type": "execute_result"
    }
   ],
   "source": [
    "dataset_train['Salary'].unique()"
   ]
  },
  {
   "cell_type": "code",
   "execution_count": 6,
   "id": "3d4ef4b8",
   "metadata": {},
   "outputs": [
    {
     "data": {
      "text/plain": [
       "array([' Male', ' Female'], dtype=object)"
      ]
     },
     "execution_count": 6,
     "metadata": {},
     "output_type": "execute_result"
    }
   ],
   "source": [
    "dataset_train['sex'].unique()"
   ]
  },
  {
   "cell_type": "code",
   "execution_count": 7,
   "id": "631e0bc5",
   "metadata": {},
   "outputs": [
    {
     "data": {
      "text/plain": [
       "array([' United-States', ' Cuba', ' Jamaica', ' India', ' Mexico',\n",
       "       ' Puerto-Rico', ' Honduras', ' England', ' Canada', ' Germany',\n",
       "       ' Iran', ' Philippines', ' Poland', ' Columbia', ' Cambodia',\n",
       "       ' Thailand', ' Ecuador', ' Laos', ' Taiwan', ' Haiti', ' Portugal',\n",
       "       ' Dominican-Republic', ' El-Salvador', ' France', ' Guatemala',\n",
       "       ' Italy', ' China', ' South', ' Japan', ' Yugoslavia', ' Peru',\n",
       "       ' Outlying-US(Guam-USVI-etc)', ' Scotland', ' Trinadad&Tobago',\n",
       "       ' Greece', ' Nicaragua', ' Vietnam', ' Hong', ' Ireland',\n",
       "       ' Hungary'], dtype=object)"
      ]
     },
     "execution_count": 7,
     "metadata": {},
     "output_type": "execute_result"
    }
   ],
   "source": [
    "dataset_train['native'].unique()"
   ]
  },
  {
   "cell_type": "code",
   "execution_count": 8,
   "id": "90c4cec6",
   "metadata": {},
   "outputs": [
    {
     "data": {
      "text/plain": [
       "array([' White', ' Black', ' Asian-Pac-Islander', ' Amer-Indian-Eskimo',\n",
       "       ' Other'], dtype=object)"
      ]
     },
     "execution_count": 8,
     "metadata": {},
     "output_type": "execute_result"
    }
   ],
   "source": [
    "dataset_train['race'].unique()"
   ]
  },
  {
   "cell_type": "code",
   "execution_count": 9,
   "id": "b8d1b250",
   "metadata": {},
   "outputs": [
    {
     "name": "stdout",
     "output_type": "stream",
     "text": [
      "<class 'pandas.core.frame.DataFrame'>\n",
      "RangeIndex: 30161 entries, 0 to 30160\n",
      "Data columns (total 14 columns):\n",
      " #   Column         Non-Null Count  Dtype \n",
      "---  ------         --------------  ----- \n",
      " 0   age            30161 non-null  int64 \n",
      " 1   workclass      30161 non-null  object\n",
      " 2   education      30161 non-null  object\n",
      " 3   educationno    30161 non-null  int64 \n",
      " 4   maritalstatus  30161 non-null  object\n",
      " 5   occupation     30161 non-null  object\n",
      " 6   relationship   30161 non-null  object\n",
      " 7   race           30161 non-null  object\n",
      " 8   sex            30161 non-null  object\n",
      " 9   capitalgain    30161 non-null  int64 \n",
      " 10  capitalloss    30161 non-null  int64 \n",
      " 11  hoursperweek   30161 non-null  int64 \n",
      " 12  native         30161 non-null  object\n",
      " 13  Salary         30161 non-null  object\n",
      "dtypes: int64(5), object(9)\n",
      "memory usage: 3.2+ MB\n"
     ]
    }
   ],
   "source": [
    "dataset_train.info()"
   ]
  },
  {
   "cell_type": "code",
   "execution_count": 10,
   "id": "df8692b7",
   "metadata": {},
   "outputs": [
    {
     "name": "stdout",
     "output_type": "stream",
     "text": [
      "<class 'pandas.core.frame.DataFrame'>\n",
      "RangeIndex: 15060 entries, 0 to 15059\n",
      "Data columns (total 14 columns):\n",
      " #   Column         Non-Null Count  Dtype \n",
      "---  ------         --------------  ----- \n",
      " 0   age            15060 non-null  int64 \n",
      " 1   workclass      15060 non-null  object\n",
      " 2   education      15060 non-null  object\n",
      " 3   educationno    15060 non-null  int64 \n",
      " 4   maritalstatus  15060 non-null  object\n",
      " 5   occupation     15060 non-null  object\n",
      " 6   relationship   15060 non-null  object\n",
      " 7   race           15060 non-null  object\n",
      " 8   sex            15060 non-null  object\n",
      " 9   capitalgain    15060 non-null  int64 \n",
      " 10  capitalloss    15060 non-null  int64 \n",
      " 11  hoursperweek   15060 non-null  int64 \n",
      " 12  native         15060 non-null  object\n",
      " 13  Salary         15060 non-null  object\n",
      "dtypes: int64(5), object(9)\n",
      "memory usage: 1.6+ MB\n"
     ]
    }
   ],
   "source": [
    "dataset_test.info()"
   ]
  },
  {
   "cell_type": "code",
   "execution_count": 11,
   "id": "9ceddc4c",
   "metadata": {},
   "outputs": [],
   "source": [
    "def confusion_matrix(y_test,y_pred):\n",
    "    from sklearn.metrics import confusion_matrix\n",
    "    confusion = confusion_matrix(y_test, y_pred)\n",
    "    plot_confusion_matrix(conf_mat=confusion)\n",
    "    plt.show()\n"
   ]
  },
  {
   "cell_type": "code",
   "execution_count": 12,
   "id": "27da411c",
   "metadata": {},
   "outputs": [],
   "source": [
    "def classification_report(y_test,y_pred):\n",
    "    # importing accuracy_score, precision_score, recall_score, f1_score\n",
    "    from sklearn.metrics import accuracy_score, precision_score, recall_score, f1_score\n",
    "\n",
    "    print('\\nAccuracy: {:.2f}\\n'.format(accuracy_score(y_test, y_pred)))\n",
    "\n",
    "    print('Micro Precision: {:.2f}'.format(precision_score(y_test, y_pred, average='micro')))\n",
    "    print('Micro Recall: {:.2f}'.format(recall_score(y_test, y_pred, average='micro')))\n",
    "    print('Micro F1-score: {:.2f}\\n'.format(f1_score(y_test, y_pred, average='micro')))\n",
    "\n",
    "    print('Macro Precision: {:.2f}'.format(precision_score(y_test, y_pred, average='macro')))\n",
    "    print('Macro Recall: {:.2f}'.format(recall_score(y_test, y_pred, average='macro')))\n",
    "    print('Macro F1-score: {:.2f}\\n'.format(f1_score(y_test, y_pred, average='macro')))\n",
    "\n",
    "    print('Weighted Precision: {:.2f}'.format(precision_score(y_test, y_pred, average='weighted')))\n",
    "    print('Weighted Recall: {:.2f}'.format(recall_score(y_test, y_pred, average='weighted')))\n",
    "    print('Weighted F1-score: {:.2f}'.format(f1_score(y_test, y_pred, average='weighted')))\n",
    "    \n",
    "    from sklearn.metrics import classification_report\n",
    "    print('\\nClassification Report\\n')\n",
    "    print(classification_report(y_test, y_pred))\n",
    "    "
   ]
  },
  {
   "cell_type": "code",
   "execution_count": 13,
   "id": "b1a5f1d3",
   "metadata": {},
   "outputs": [],
   "source": [
    "def ROC_AUC(y_test,y_pred_prob):\n",
    "    classes = np.unique(y_test)\n",
    "\n",
    "    fpr, tpr, thresh = roc_curve(y_test, y_pred_prob[:,1], pos_label=1)\n",
    "    roc_auc = auc(fpr, tpr)\n",
    "    \n",
    "    plt.plot(fpr, tpr, linestyle='--', label='%s (AUC=%0.2f)' % (classes, roc_auc))\n",
    "\n",
    "    plt.title('ROC curve')\n",
    "    plt.xlabel('False Positive Rate')\n",
    "    plt.ylabel('True Positive rate')\n",
    "    plt.legend(loc='lower right')\n",
    "    plt.show()\n",
    "\n",
    "   \n",
    "    auc_score = roc_auc_score(y_test, y_pred_prob[:,1])\n",
    "    print(\"AUC_Score: \",auc_score)"
   ]
  },
  {
   "cell_type": "code",
   "execution_count": 15,
   "id": "93f692ca",
   "metadata": {},
   "outputs": [
    {
     "name": "stdout",
     "output_type": "stream",
     "text": [
      "Accuracy of naive bayes classifier on training set: 0.7953\n",
      "Accuracy of naive bayes classifier on test set: 0.7947\n"
     ]
    },
    {
     "data": {
      "image/png": "[encoded data removed]",
      "text/plain": [
       "<Figure size 640x480 with 1 Axes>"
      ]
     },
     "metadata": {},
     "output_type": "display_data"
    },
    {
     "name": "stdout",
     "output_type": "stream",
     "text": [
      "\n",
      "Accuracy: 0.79\n",
      "\n",
      "Micro Precision: 0.79\n",
      "Micro Recall: 0.79\n",
      "Micro F1-score: 0.79\n",
      "\n",
      "Macro Precision: 0.74\n",
      "Macro Recall: 0.64\n",
      "Macro F1-score: 0.66\n",
      "\n",
      "Weighted Precision: 0.78\n",
      "Weighted Recall: 0.79\n",
      "Weighted F1-score: 0.77\n",
      "\n",
      "Classification Report\n",
      "\n",
      "              precision    recall  f1-score   support\n",
      "\n",
      "           0       0.81      0.95      0.87     11360\n",
      "           1       0.67      0.33      0.44      3700\n",
      "\n",
      "    accuracy                           0.79     15060\n",
      "   macro avg       0.74      0.64      0.66     15060\n",
      "weighted avg       0.78      0.79      0.77     15060\n",
      "\n"
     ]
    },
    {
     "data": {
      "image/png": "[encoded data removed]",
      "text/plain": [
       "<Figure size 640x480 with 1 Axes>"
      ]
     },
     "metadata": {},
     "output_type": "display_data"
    },
    {
     "name": "stdout",
     "output_type": "stream",
     "text": [
      "AUC_Score:  0.8523163898934146\n"
     ]
    }
   ],
   "source": [
    "def model_NB(dataset_train,dataset_test):\n",
    "        \n",
    "    from sklearn import preprocessing\n",
    "    label_encoder = preprocessing.LabelEncoder()\n",
    "   \n",
    "    dataset_train['workclass']= label_encoder.fit_transform(dataset_train['workclass'])\n",
    "    dataset_train['education']= label_encoder.fit_transform(dataset_train['education'])\n",
    "    dataset_train['maritalstatus']= label_encoder.fit_transform(dataset_train['maritalstatus'])\n",
    "    dataset_train['occupation']= label_encoder.fit_transform(dataset_train['occupation'])\n",
    "    dataset_train['relationship']= label_encoder.fit_transform(dataset_train['relationship'])\n",
    "    dataset_train['race']= label_encoder.fit_transform(dataset_train['race'])\n",
    "    dataset_train['sex']= label_encoder.fit_transform(dataset_train['sex'])\n",
    "    dataset_train['native']= label_encoder.fit_transform(dataset_train['native'])\n",
    "    dataset_train['Salary']= label_encoder.fit_transform(dataset_train['Salary'])\n",
    "    \n",
    "    dataset_test['workclass']= label_encoder.fit_transform(dataset_test['workclass'])\n",
    "    dataset_test['education']= label_encoder.fit_transform(dataset_test['education'])\n",
    "    dataset_test['maritalstatus']= label_encoder.fit_transform(dataset_test['maritalstatus'])\n",
    "    dataset_test['occupation']= label_encoder.fit_transform(dataset_test['occupation'])\n",
    "    dataset_test['relationship']= label_encoder.fit_transform(dataset_test['relationship'])\n",
    "    dataset_test['race']= label_encoder.fit_transform(dataset_test['race'])\n",
    "    dataset_test['sex']= label_encoder.fit_transform(dataset_test['sex'])\n",
    "    dataset_test['native']= label_encoder.fit_transform(dataset_test['native'])\n",
    "    dataset_test['Salary']= label_encoder.fit_transform(dataset_test['Salary'])\n",
    "    \n",
    "    \n",
    "    X_train = dataset_train.iloc[:,:-1] \n",
    "    y_train = dataset_train.iloc[:,-1]\n",
    "    X_test = dataset_test.iloc[:,:-1] \n",
    "    y_test = dataset_test.iloc[:,-1]\n",
    "  \n",
    "   \n",
    "        \n",
    "    from sklearn.naive_bayes import GaussianNB\n",
    "    clf = GaussianNB()\n",
    "    clf.fit(X_train, y_train)\n",
    "    print('Accuracy of naive bayes classifier on training set: {:.4f}'\n",
    "          .format(clf.score(X_train, y_train)))\n",
    "    print('Accuracy of naive bayes classifier on test set: {:.4f}'\n",
    "          .format(clf.score(X_test, y_test)))\n",
    "    \n",
    "    y_pred=clf.predict(X_test)\n",
    "    y_pred_prob=clf.predict_proba(X_test)\n",
    "\n",
    "    \n",
    "    confusion_matrix(y_test,y_pred)\n",
    "\n",
    "\n",
    "    classification_report(y_test,y_pred)\n",
    "\n",
    "    ROC_AUC(y_test,y_pred_prob)\n",
    "    \n",
    "model_NB(dataset_train,dataset_test)\n"
   ]
  },
  {
   "cell_type": "code",
   "execution_count": 16,
   "id": "6a372189",
   "metadata": {},
   "outputs": [
    {
     "name": "stdout",
     "output_type": "stream",
     "text": [
      "Accuracy of mixed naive bayes classifier on training set: 0.8272\n",
      "Accuracy of mixed naive bayes classifier on test set: 0.8242\n"
     ]
    },
    {
     "data": {
      "image/png": "[encoded data removed]",
      "text/plain": [
       "<Figure size 640x480 with 1 Axes>"
      ]
     },
     "metadata": {},
     "output_type": "display_data"
    },
    {
     "name": "stdout",
     "output_type": "stream",
     "text": [
      "\n",
      "Accuracy: 0.82\n",
      "\n",
      "Micro Precision: 0.82\n",
      "Micro Recall: 0.82\n",
      "Micro F1-score: 0.82\n",
      "\n",
      "Macro Precision: 0.77\n",
      "Macro Recall: 0.72\n",
      "Macro F1-score: 0.74\n",
      "\n",
      "Weighted Precision: 0.81\n",
      "Weighted Recall: 0.82\n",
      "Weighted F1-score: 0.81\n",
      "\n",
      "Classification Report\n",
      "\n",
      "              precision    recall  f1-score   support\n",
      "\n",
      "           0       0.85      0.93      0.89     11360\n",
      "           1       0.70      0.50      0.58      3700\n",
      "\n",
      "    accuracy                           0.82     15060\n",
      "   macro avg       0.77      0.72      0.74     15060\n",
      "weighted avg       0.81      0.82      0.81     15060\n",
      "\n"
     ]
    },
    {
     "data": {
      "image/png": "[encoded data removed]",
      "text/plain": [
       "<Figure size 640x480 with 1 Axes>"
      ]
     },
     "metadata": {},
     "output_type": "display_data"
    },
    {
     "name": "stdout",
     "output_type": "stream",
     "text": [
      "AUC_Score:  0.887781916159117\n"
     ]
    }
   ],
   "source": [
    "def model_NB(dataset_train,dataset_test):\n",
    "        \n",
    "    from sklearn import preprocessing\n",
    "    label_encoder = preprocessing.LabelEncoder()\n",
    "   \n",
    "    dataset_train['workclass']= label_encoder.fit_transform(dataset_train['workclass'])\n",
    "    dataset_train['education']= label_encoder.fit_transform(dataset_train['education'])\n",
    "    dataset_train['maritalstatus']= label_encoder.fit_transform(dataset_train['maritalstatus'])\n",
    "    dataset_train['occupation']= label_encoder.fit_transform(dataset_train['occupation'])\n",
    "    dataset_train['relationship']= label_encoder.fit_transform(dataset_train['relationship'])\n",
    "    dataset_train['race']= label_encoder.fit_transform(dataset_train['race'])\n",
    "    dataset_train['sex']= label_encoder.fit_transform(dataset_train['sex'])\n",
    "    dataset_train['native']= label_encoder.fit_transform(dataset_train['native'])\n",
    "    dataset_train['Salary']= label_encoder.fit_transform(dataset_train['Salary'])\n",
    "    \n",
    "    dataset_test['workclass']= label_encoder.fit_transform(dataset_test['workclass'])\n",
    "    dataset_test['education']= label_encoder.fit_transform(dataset_test['education'])\n",
    "    dataset_test['maritalstatus']= label_encoder.fit_transform(dataset_test['maritalstatus'])\n",
    "    dataset_test['occupation']= label_encoder.fit_transform(dataset_test['occupation'])\n",
    "    dataset_test['relationship']= label_encoder.fit_transform(dataset_test['relationship'])\n",
    "    dataset_test['race']= label_encoder.fit_transform(dataset_test['race'])\n",
    "    dataset_test['sex']= label_encoder.fit_transform(dataset_test['sex'])\n",
    "    dataset_test['native']= label_encoder.fit_transform(dataset_test['native'])\n",
    "    dataset_test['Salary']= label_encoder.fit_transform(dataset_test['Salary'])\n",
    "    \n",
    "#     y['y']= label_encoder.fit_transform(y['y'])\n",
    "#     X=pd.get_dummies(columns=['native','job','sex','contact','poutcome'],data=X)\n",
    "    \n",
    "    X_train = dataset_train.iloc[:,:-1] \n",
    "    y_train = dataset_train.iloc[:,-1]\n",
    "    X_test = dataset_test.iloc[:,:-1] \n",
    "    y_test = dataset_test.iloc[:,-1]\n",
    "  \n",
    "   \n",
    "        \n",
    "    from mixed_naive_bayes import MixedNB\n",
    "    clf = MixedNB(categorical_features=[1,2,4,5,6,7,8,12])\n",
    "    clf.fit(X_train, y_train)\n",
    "    print('Accuracy of mixed naive bayes classifier on training set: {:.4f}'\n",
    "          .format(clf.score(X_train, y_train)))\n",
    "    print('Accuracy of mixed naive bayes classifier on test set: {:.4f}'\n",
    "          .format(clf.score(X_test, y_test)))\n",
    "    \n",
    "    y_pred=clf.predict(X_test)\n",
    "    y_pred_prob=clf.predict_proba(X_test)\n",
    "    \n",
    "    \n",
    "    confusion_matrix(y_test,y_pred)\n",
    "\n",
    "\n",
    "    classification_report(y_test,y_pred)\n",
    "\n",
    "    ROC_AUC(y_test,y_pred_prob)\n",
    "    \n",
    "model_NB(dataset_train,dataset_test)\n"
   ]
  },
  {
   "cell_type": "markdown",
   "id": "40129573",
   "metadata": {},
   "source": [
    "## Since the data contain both categorical and numerical data mixed-naive-bayes gives higher accuracy than gaussian-naive-bayes. Hence this model can be used for salary classification.\n"
   ]
  }
 ],
 "metadata": {
  "kernelspec": {
   "display_name": "Python 3 (ipykernel)",
   "language": "python",
   "name": "python3"
  },
  "language_info": {
   "codemirror_mode": {
    "name": "ipython",
    "version": 3
   },
   "file_extension": ".py",
   "mimetype": "text/x-python",
   "name": "python",
   "nbconvert_exporter": "python",
   "pygments_lexer": "ipython3",
   "version": "3.9.13"
  }
 },
 "nbformat": 4,
 "nbformat_minor": 5
}
